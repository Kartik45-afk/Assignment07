{
  "nbformat": 4,
  "nbformat_minor": 0,
  "metadata": {
    "colab": {
      "provenance": []
    },
    "kernelspec": {
      "name": "python3",
      "display_name": "Python 3"
    },
    "language_info": {
      "name": "python"
    }
  },
  "cells": [
    {
      "cell_type": "markdown",
      "source": [
        "# Theoretical Questions"
      ],
      "metadata": {
        "id": "e7yu6enzxEuM"
      }
    },
    {
      "cell_type": "markdown",
      "source": [
        "#### #1.What is a RESTful API?\n",
        "##### #Ans.A RESTful API (Representational State Transfer) is an architectural style for designing web services that interact using standard HTTP methods like GET,POST,PUT and DELETE.It uses URLs to access resources and typically returns data in formats like JSON or XML.RESTful APIs are stateless,meaning each request contains all the necessary information.They are commonly used to connect client and server applications over the internet."
      ],
      "metadata": {
        "id": "-oZSDnTkxI60"
      }
    },
    {
      "cell_type": "markdown",
      "source": [
        "#### #2.Explain the concept of API specification.\n",
        "##### #Ans.An API specification is a detailed document that defines how an API works including its endpoints,request and response formats,data types and authentication methods.It acts like a contract between the API provider and the consumer.Common formats include OpenAPI (formerly Swagger).Specifications help developers understand how to use the API correctly and consistently."
      ],
      "metadata": {
        "id": "6659Yp9SzEpo"
      }
    },
    {
      "cell_type": "markdown",
      "source": [
        "#### #3.What is Flask, and why is it popular for building APIs?\n",
        "##### #Ans.Flask is a lightweight and flexible Python web framework used to build web applications and APIs.It is popular because it's easy to learn,minimalistic and allows developers to add only the components they need.Flask supports extensions for added functionality and has a large,active community.Its simplicity makes it ideal for quick development and prototyping."
      ],
      "metadata": {
        "id": "UQKJ9X4Qzqte"
      }
    },
    {
      "cell_type": "markdown",
      "source": [
        "#### #4.What is routing in Flask.\n",
        "##### #Ans.Routing in Flask refers to the process of mapping URLs to specific functions in the application.These functions,called view functions,define what should happen when a user accesses a particular route (URL).Flask uses the app.route( ) function to link a URL with a specific function.Routing also allows handling of different HTTP methods like GET and POST for each path."
      ],
      "metadata": {
        "id": "_QWS_il40TXH"
      }
    },
    {
      "cell_type": "markdown",
      "source": [
        "#### #5.How do you create a simple Flask application?\n",
        "##### #Ans.To create a simple Flask application,first install Flask using pip.Then,import Flask and create an instance of the Flask class.Define a route using the app.route( ) function and write a corresponding view function.Finally,run the application using the run( ) method to start the local development server."
      ],
      "metadata": {
        "id": "DJgDgNUx1Tct"
      }
    },
    {
      "cell_type": "markdown",
      "source": [
        "#### #6.What are HTTP methods used in RESTful APIs?\n",
        "##### #Ans.The HTTP methods used in RESTful APIs define the type of operation to be performed on the server.The commonly used methods are GET,POST,PUT,DELETE and PATCH.The GET method is used to retrieve data from the server while POST is used to send data to the server to create a new resource.PUT is used to update an existing resource completely whereas PATCH is used for partial updates.The DELETE method removes a specified resource from the server.These methods help perform CRUD operations in a RESTful manner."
      ],
      "metadata": {
        "id": "0yMF-e-92BZD"
      }
    },
    {
      "cell_type": "markdown",
      "source": [
        "#### #7.What is the purpose of the @app.route() decorator in Flask?\n",
        "##### #Ans.The purpose of the app.route( ) decorator in Flask is to bind a specific URL path to a Python function,known as a view function.When a user accesses that URL in the browser,Flask executes the corresponding function.This helps define what response should be sent back for each route.The decorator also allows specifying which HTTP methods (like GET or POST) the route should respond to.It simplifies routing and makes the code more organized and readable."
      ],
      "metadata": {
        "id": "kBX1lsc-3GSG"
      }
    },
    {
      "cell_type": "markdown",
      "source": [
        "#### #8.What is the difference between GET and POST HTTP methods?\n",
        "##### #Ans.The GET and POST HTTP methods are used to communicate between the client and the server but they serve different purposes.The GET method is used to request and retrieve data from the server and sends data through the URL,making it visible and less secure.It is mostly used for reading or displaying information.On the other hand,the POST method is used to send data to the server,usually to create or update a resource.POST sends data in the request body making it more secure and suitable for sensitive information like login credentials."
      ],
      "metadata": {
        "id": "bkDUxCFC4FUg"
      }
    },
    {
      "cell_type": "markdown",
      "source": [
        "#### #9.How do you handle errors in Flask APIs?\n",
        "##### #Ans.Errors in Flask APIs are handled using error handlers and try-except blocks.Flask allows you to define custom error messages for common HTTP errors like 404 (Not Found) or 500 (Internal Server Error) using the app.errorhandler( ) function.You can also use try-except blocks in your view functions to catch specific exceptions and return meaningful error responses.Proper error handling ensures the API remains stable and provides helpful feedback to clients."
      ],
      "metadata": {
        "id": "PLEIIstK5BMn"
      }
    },
    {
      "cell_type": "markdown",
      "source": [
        "#### #10.How do you connect Flask to a SQL database?\n",
        "##### #Ans.Flask connects to a SQL database using libraries like SQLAlchemy or Flask-SQLAlchemy.First,you configure the database URI in the Flask application's settings.Then,you initialize the database object with the Flask app.You can define models (tables) using Python classes and perform operations like adding,querying,updating or deleting data using ORM methods.This makes database interaction easier and more Pythonic."
      ],
      "metadata": {
        "id": "dhI43pdD5tSZ"
      }
    },
    {
      "cell_type": "markdown",
      "source": [
        "#### #11.What is the role of Flask-SQLAlchemy?\n",
        "##### #Ans.Flask-SQLAlchemy is an extension that integrates SQLAlchemy with Flask to simplify database operations.It provides a high-level abstraction for connecting to databases,defining models and performing CRUD operations using Python classes.Flask-SQLAlchemy manages the database connection and helps avoid writing raw SQL queries.It also supports migrations and relationships between tables making it easier to build database-driven applications."
      ],
      "metadata": {
        "id": "LbVYtjhx6ZOM"
      }
    },
    {
      "cell_type": "markdown",
      "source": [
        "#### #12.What are Flask blueprints, and how are they useful?\n",
        "##### #Ans.Flask blueprints are a way to organize a Flask application into smaller,modular components.They allow you to group related routes,templates and static files together,making the codebase more manageable and scalable.Blueprints are especially useful for larger applications with multiple functionalities such as user authentication or admin panels.Instead of defining all routes in a single file each feature can have its own blueprint.This promotes code reuse and cleaner project structure."
      ],
      "metadata": {
        "id": "KjlLhfv-67zx"
      }
    },
    {
      "cell_type": "markdown",
      "source": [
        "#### #13.What is the purpose of Flask's request object?\n",
        "##### #Ans.The purpose of Flask's request object is to access data sent by the client to the server during an HTTP request.It provides useful information such as form data,query parameters, JSON payload,cookies and headers.For example,request.form is used to get form input while request.args retrieves URL parameters.The request object is essential for handling user input and processing data in APIs and web applications.It allows developers to build dynamic and interactive features based on client requests."
      ],
      "metadata": {
        "id": "ebo9CzEo7faQ"
      }
    },
    {
      "cell_type": "markdown",
      "source": [
        "#### #14.How do you create a RESTful API endpoint using Flask?\n",
        "##### #Ans.To create a RESTful API endpoint using Flask,you first import the Flask class and create an app instance.Then,use the app.route( ) function to define a URL path and specify the HTTP method like GET or POST.Inside the associated view function,write the logic to handle the request and return a response,usually in JSON format using jsonify( ).Finally,run the Flask app using the run( ) method to start the server."
      ],
      "metadata": {
        "id": "XDSjSsYrAcWS"
      }
    },
    {
      "cell_type": "markdown",
      "source": [
        "#### #15.What is the purpose of Flask's jsonify() function?\n",
        "##### #Ans.The purpose of Flask's jsonify function is to convert Python data structures such as dictionaries and lists into a JSON-formatted HTTP response.It automatically sets the correct content type as application/json in the response header.This ensures that the client can properly interpret the data as JSON.The jsonify function also handles special characters and encoding safely.It simplifies the process of creating well-structured JSON responses.Using jsonify is recommended over manually converting data to JSON in Flask APIs."
      ],
      "metadata": {
        "id": "yeejypvdBQPE"
      }
    },
    {
      "cell_type": "markdown",
      "source": [
        "#### #16.Explain Flask's url_for() function.\n",
        "##### #Ans.Flask's url_for function is used to build a URL for a specific function (usually a view function) by using its name.Instead of hardcoding URLs,url_for generates them dynamically which makes the application more maintainable.It also helps avoid errors if route paths are changed later in the code.The function can also accept arguments to build URLs with query parameters.This is especially useful in templates and redirects making navigation within the app more flexible and reliable."
      ],
      "metadata": {
        "id": "pTNBCt3oB-hZ"
      }
    },
    {
      "cell_type": "markdown",
      "source": [
        "#### #17.How does Flask handle static files (CSS, JavaScript, etc.)?\n",
        "##### #Ans.Flask handles static files such as CSS, JavaScript and images through a special folder named static in the project directory.By default,Flask serves these files when accessed using the /static/ URL path.For example,a file stored as static/style.css can be accessed in the browser using that path.In HTML templates,the url_for function is used with 'static' and the filename to generate the correct URL.This setup helps keep static resources organized and ensures they are easily linked within the application."
      ],
      "metadata": {
        "id": "lk60eDEWCsXn"
      }
    },
    {
      "cell_type": "markdown",
      "source": [
        "#### #18.What is an API specification, and how does it help in building a Flask API?\n",
        "##### #Ans.An API specification is a detailed document that outlines how an API should function including its endpoints,request and response formats,data types,authentication methods and error codes.It acts as a blueprint or contract between the API provider and the users.In building a Flask API,an API specification ensures consistency,clarity and proper communication among developers.It helps in designing,testing and documenting the API efficiently.Tools like Swagger or OpenAPI are commonly used to create and visualize API specifications."
      ],
      "metadata": {
        "id": "k6CRxlO4Dd4W"
      }
    },
    {
      "cell_type": "markdown",
      "source": [
        "#### #19.What are HTTP status codes, and why are they important in a Flask API?\n",
        "##### #Ans.HTTP status codes are standardized three-digit numbers sent by the server in response to a client's request to indicate the result of the operation.They help the client understand whether the request was successful,resulted in an error or needs further action.In a Flask API,status codes like 200 (OK),201 (Created),400 (Bad Request),404 (Not Found) and 500 (Internal Server Error) are commonly used.These codes improve communication between the client and server by clearly signaling the outcome of a request.Proper use of status codes makes the API more reliable,informative and easier to debug."
      ],
      "metadata": {
        "id": "Eo0br7cwE1PW"
      }
    },
    {
      "cell_type": "markdown",
      "source": [
        "#### #20.How do you handle POST requests in Flask?\n",
        "##### #Ans.To handle POST requests in Flask,you define a route using the app.route function and specify the method as POST.Inside the view function,you use the request object to access the data sent by the client such as form data or JSON.This data is then processed or stored as needed.After processing,the function typically returns a response,often using jsonify along with an appropriate status code.Handling POST requests is useful for creating or updating resources in a Flask API."
      ],
      "metadata": {
        "id": "nW8MgQwMFk8r"
      }
    },
    {
      "cell_type": "markdown",
      "source": [
        "#### #21.How would you secure a Flask API?\n",
        "##### #Ans.To secure a Flask API,you can implement authentication methods like API keys,token-based authentication (such as JWT) or OAuth.Use HTTPS to encrypt data during transmission.Input validation and proper error handling help prevent common attacks like SQL injection and cross-site scripting.You can also use Flask extensions like Flask-Limiter for rate limiting and Flask-CORS to control cross-origin requests."
      ],
      "metadata": {
        "id": "jLcE7LW5Gof5"
      }
    },
    {
      "cell_type": "markdown",
      "source": [
        "#### #22.What is the significance of the Flask-RESTful extension?\n",
        "##### #Ans.The Flask-RESTful extension simplifies the creation of RESTful APIs using Flask by providing tools and classes for building resource-based routes.It allows developers to define resources as Python classes and handle different HTTP methods like GET,POST,PUT and DELETE with class methods.Flask-RESTful supports automatic input parsing and error handling,reducing boilerplate code.It also makes the API structure more organized and readable.This extension is especially useful for building scalable and maintainable APIs quickly."
      ],
      "metadata": {
        "id": "VvT9nvCWHto5"
      }
    },
    {
      "cell_type": "markdown",
      "source": [
        "#### #23.What is the role of Flask's session object?\n",
        "##### #Ans.The session object in Flask is used to store data that needs to persist across multiple requests from the same user.It works like a dictionary and is stored on the server side while a secure cookie is sent to the client to identify the session.This is useful for maintaining user-specific data such as login status,preferences or shopping cart items.Flask encrypts the session data using a secret key to ensure security.The session object helps build interactive,user-aware web applications."
      ],
      "metadata": {
        "id": "uNFdt8vmI0BT"
      }
    },
    {
      "cell_type": "markdown",
      "source": [
        "# Practical Questions\n"
      ],
      "metadata": {
        "id": "SFaelVrkVHpK"
      }
    },
    {
      "cell_type": "code",
      "source": [
        "#1.How do you create a basic Flask application?\n",
        "from flask import Flask\n",
        "\n",
        "app = Flask(__name__)\n",
        "\n",
        "@app.route('/')\n",
        "def home():\n",
        "    return \"Hello, Flask!\"\n",
        "\n",
        "if __name__ == '__main__':\n",
        "    app.run(debug=True)"
      ],
      "metadata": {
        "colab": {
          "base_uri": "https://localhost:8080/"
        },
        "id": "1P3RMW07VLyd",
        "outputId": "ea05c951-d0f2-48cf-d30c-aa4a8079f003"
      },
      "execution_count": 14,
      "outputs": [
        {
          "output_type": "stream",
          "name": "stdout",
          "text": [
            " * Serving Flask app '__main__'\n",
            " * Debug mode: on\n"
          ]
        },
        {
          "output_type": "stream",
          "name": "stderr",
          "text": [
            "INFO:werkzeug:\u001b[31m\u001b[1mWARNING: This is a development server. Do not use it in a production deployment. Use a production WSGI server instead.\u001b[0m\n",
            " * Running on http://127.0.0.1:5000\n",
            "INFO:werkzeug:\u001b[33mPress CTRL+C to quit\u001b[0m\n",
            "INFO:werkzeug: * Restarting with stat\n"
          ]
        }
      ]
    },
    {
      "cell_type": "code",
      "source": [
        "#2.How do you serve static files like images or CSS in Flask?\n",
        "# create a 'static' folder and add a file\n",
        "import os\n",
        "\n",
        "os.makedirs('static', exist_ok=True)\n",
        "\n",
        "# Create a sample CSS file with different content\n",
        "with open('static/style.css', 'w') as f:\n",
        "    f.write('''\n",
        "    body {\n",
        "        background-color: #f0f0f0;\n",
        "        font-family: Arial, sans-serif;\n",
        "        padding: 20px;\n",
        "    }\n",
        "    h1 {\n",
        "        color: darkblue;\n",
        "        text-align: center;\n",
        "    }\n",
        "    ''')\n",
        "\n",
        "# Flask app to serve static files\n",
        "from flask import Flask, url_for\n",
        "\n",
        "app = Flask(__name__)\n",
        "\n",
        "@app.route('/')\n",
        "def home():\n",
        "    return '''\n",
        "    <html>\n",
        "    <head>\n",
        "        <link rel=\"stylesheet\" href=\"{}\">\n",
        "    </head>\n",
        "    <body>\n",
        "        <h1>Welcome to a Styled Flask Page!</h1>\n",
        "    </body>\n",
        "    </html>\n",
        "    '''.format(url_for('static', filename='style.css'))\n",
        "\n",
        "if __name__ == '__main__':\n",
        "    app.run()"
      ],
      "metadata": {
        "colab": {
          "base_uri": "https://localhost:8080/"
        },
        "id": "aZdzTP2_Z4it",
        "outputId": "47e723fa-01c0-457f-8ba3-21562adf84fa"
      },
      "execution_count": 3,
      "outputs": [
        {
          "output_type": "stream",
          "name": "stdout",
          "text": [
            " * Serving Flask app '__main__'\n",
            " * Debug mode: off\n"
          ]
        },
        {
          "output_type": "stream",
          "name": "stderr",
          "text": [
            "INFO:werkzeug:\u001b[31m\u001b[1mWARNING: This is a development server. Do not use it in a production deployment. Use a production WSGI server instead.\u001b[0m\n",
            " * Running on http://127.0.0.1:5000\n",
            "INFO:werkzeug:\u001b[33mPress CTRL+C to quit\u001b[0m\n"
          ]
        }
      ]
    },
    {
      "cell_type": "code",
      "source": [
        "#3.How do you define different routes with different HTTP methods in Flask?\n",
        "@app.route('/submit', methods=['GET', 'POST'])\n",
        "def submit():\n",
        "    if request.method == 'POST':\n",
        "        return \"Posted!\"\n",
        "    return \"GET method\""
      ],
      "metadata": {
        "id": "oJOskdtkcH0I"
      },
      "execution_count": 4,
      "outputs": []
    },
    {
      "cell_type": "code",
      "source": [
        "#4.How do you render HTML templates in Flask?\n",
        "from flask import Flask, render_template\n",
        "\n",
        "app = Flask(__name__)\n",
        "\n",
        "@app.route('/')\n",
        "def home():\n",
        "    return render_template('index.html')\n",
        "\n",
        "if __name__ == '__main__':\n",
        "    app.run(debug=True)\n"
      ],
      "metadata": {
        "colab": {
          "base_uri": "https://localhost:8080/"
        },
        "id": "RissyokTdGb_",
        "outputId": "dffb8b78-10d5-4ae8-b73b-8143a66a3f4d"
      },
      "execution_count": 5,
      "outputs": [
        {
          "output_type": "stream",
          "name": "stdout",
          "text": [
            " * Serving Flask app '__main__'\n",
            " * Debug mode: on\n"
          ]
        },
        {
          "output_type": "stream",
          "name": "stderr",
          "text": [
            "INFO:werkzeug:\u001b[31m\u001b[1mWARNING: This is a development server. Do not use it in a production deployment. Use a production WSGI server instead.\u001b[0m\n",
            " * Running on http://127.0.0.1:5000\n",
            "INFO:werkzeug:\u001b[33mPress CTRL+C to quit\u001b[0m\n",
            "INFO:werkzeug: * Restarting with stat\n"
          ]
        }
      ]
    },
    {
      "cell_type": "code",
      "source": [
        "import os\n",
        "\n",
        "# Create the templates directory if it doesn't exist\n",
        "os.makedirs('templates', exist_ok=True)\n",
        "\n",
        "# Write the HTML content into index.html inside the templates folder\n",
        "with open('templates/index.html', 'w') as f:\n",
        "    f.write('''\n",
        "    <!DOCTYPE html>\n",
        "    <html>\n",
        "    <head>\n",
        "        <title>Flask Template</title>\n",
        "    </head>\n",
        "    <body>\n",
        "        <h1>Hello from Flask template!</h1>\n",
        "    </body>\n",
        "    </html>\n",
        "    ''')\n"
      ],
      "metadata": {
        "id": "hCBzq9QBeKAO"
      },
      "execution_count": 6,
      "outputs": []
    },
    {
      "cell_type": "code",
      "source": [
        "#5.How can you generate URLs for routes in Flask using url_for?\n",
        "from flask import Flask, redirect, url_for\n",
        "\n",
        "app = Flask(__name__)\n",
        "\n",
        "@app.route('/about')\n",
        "def about():\n",
        "    return \"About Page\"\n",
        "\n",
        "@app.route('/link')\n",
        "def link():\n",
        "    return redirect(url_for('about'))\n",
        "\n",
        "if __name__ == '__main__':\n",
        "    app.run(debug=True)"
      ],
      "metadata": {
        "colab": {
          "base_uri": "https://localhost:8080/"
        },
        "id": "V73Umdq_erC5",
        "outputId": "4175096b-a322-4012-df6a-8312c39bd9e5"
      },
      "execution_count": 7,
      "outputs": [
        {
          "output_type": "stream",
          "name": "stdout",
          "text": [
            " * Serving Flask app '__main__'\n",
            " * Debug mode: on\n"
          ]
        },
        {
          "output_type": "stream",
          "name": "stderr",
          "text": [
            "INFO:werkzeug:\u001b[31m\u001b[1mWARNING: This is a development server. Do not use it in a production deployment. Use a production WSGI server instead.\u001b[0m\n",
            " * Running on http://127.0.0.1:5000\n",
            "INFO:werkzeug:\u001b[33mPress CTRL+C to quit\u001b[0m\n",
            "INFO:werkzeug: * Restarting with stat\n"
          ]
        }
      ]
    },
    {
      "cell_type": "code",
      "source": [
        "#6.How do you handle forms in Flask?\n",
        "from flask import Flask, request, render_template_string\n",
        "\n",
        "app = Flask(__name__)\n",
        "\n",
        "form_html = '''\n",
        "<form method=\"POST\" action=\"/submit\">\n",
        "  Name: <input type=\"text\" name=\"name\">\n",
        "  <input type=\"submit\" value=\"Submit\">\n",
        "</form>\n",
        "'''\n",
        "\n",
        "@app.route('/')\n",
        "def index():\n",
        "    return form_html\n",
        "\n",
        "@app.route('/submit', methods=['POST'])\n",
        "def submit():\n",
        "    name = request.form.get('name')\n",
        "    return f'Hello, {name}!'\n",
        "\n",
        "if __name__ == '__main__':\n",
        "    app.run(debug=True)"
      ],
      "metadata": {
        "colab": {
          "base_uri": "https://localhost:8080/"
        },
        "id": "9JcX28NzfmKF",
        "outputId": "3658e88c-815e-4fbf-fb6f-73dd4e224e9d"
      },
      "execution_count": 9,
      "outputs": [
        {
          "output_type": "stream",
          "name": "stdout",
          "text": [
            " * Serving Flask app '__main__'\n",
            " * Debug mode: on\n"
          ]
        },
        {
          "output_type": "stream",
          "name": "stderr",
          "text": [
            "INFO:werkzeug:\u001b[31m\u001b[1mWARNING: This is a development server. Do not use it in a production deployment. Use a production WSGI server instead.\u001b[0m\n",
            " * Running on http://127.0.0.1:5000\n",
            "INFO:werkzeug:\u001b[33mPress CTRL+C to quit\u001b[0m\n",
            "INFO:werkzeug: * Restarting with stat\n"
          ]
        }
      ]
    },
    {
      "cell_type": "code",
      "source": [
        "#7.How can you validate form data in Flask?\n",
        "from flask import Flask, request, render_template_string\n",
        "\n",
        "app = Flask(__name__)\n",
        "\n",
        "form_html = '''\n",
        "<form method=\"POST\" action=\"/submit\">\n",
        "  Email: <input type=\"text\" name=\"email\">\n",
        "  <input type=\"submit\" value=\"Submit\">\n",
        "</form>\n",
        "{% if error %}\n",
        "  <p style=\"color:red;\">{{ error }}</p>\n",
        "{% endif %}\n",
        "'''\n",
        "\n",
        "@app.route('/', methods=['GET', 'POST'])\n",
        "def index():\n",
        "    error = None\n",
        "    if request.method == 'POST':\n",
        "        email = request.form.get('email')\n",
        "        if not email or '@' not in email:\n",
        "            error = \"Invalid email address!\"\n",
        "        else:\n",
        "            return f\"Email {email} is valid!\"\n",
        "    return render_template_string(form_html, error=error)\n",
        "\n",
        "if __name__ == '__main__':\n",
        "    app.run(debug=True)"
      ],
      "metadata": {
        "colab": {
          "base_uri": "https://localhost:8080/"
        },
        "id": "NVgDP_v5hM9A",
        "outputId": "ab3759fb-328a-4bf2-f88c-ecc7288e1d19"
      },
      "execution_count": 10,
      "outputs": [
        {
          "output_type": "stream",
          "name": "stdout",
          "text": [
            " * Serving Flask app '__main__'\n",
            " * Debug mode: on\n"
          ]
        },
        {
          "output_type": "stream",
          "name": "stderr",
          "text": [
            "INFO:werkzeug:\u001b[31m\u001b[1mWARNING: This is a development server. Do not use it in a production deployment. Use a production WSGI server instead.\u001b[0m\n",
            " * Running on http://127.0.0.1:5000\n",
            "INFO:werkzeug:\u001b[33mPress CTRL+C to quit\u001b[0m\n",
            "INFO:werkzeug: * Restarting with stat\n"
          ]
        }
      ]
    },
    {
      "cell_type": "code",
      "source": [
        "#8.How do you manage sessions in Flask?\n",
        "from flask import Flask, session, redirect, url_for, request\n",
        "\n",
        "app = Flask(__name__)\n",
        "app.secret_key = 'your_secret_key'  # Needed to secure the session\n",
        "\n",
        "@app.route('/')\n",
        "def index():\n",
        "    if 'username' in session:\n",
        "        return f'Logged in as {session[\"username\"]}'\n",
        "    return 'You are not logged in'\n",
        "\n",
        "@app.route('/login', methods=['POST'])\n",
        "def login():\n",
        "    username = request.form.get('username')\n",
        "    if username:\n",
        "        session['username'] = username\n",
        "        return redirect(url_for('index'))\n",
        "    return 'Please provide a username', 400\n",
        "\n",
        "@app.route('/logout')\n",
        "def logout():\n",
        "    session.pop('username', None)\n",
        "    return redirect(url_for('index'))\n",
        "\n",
        "if __name__ == '__main__':\n",
        "    app.run(debug=True)"
      ],
      "metadata": {
        "colab": {
          "base_uri": "https://localhost:8080/"
        },
        "id": "y_2zQICiiulF",
        "outputId": "6870ca99-6678-40ad-8de4-d2337c6e1b68"
      },
      "execution_count": 12,
      "outputs": [
        {
          "output_type": "stream",
          "name": "stdout",
          "text": [
            " * Serving Flask app '__main__'\n",
            " * Debug mode: on\n"
          ]
        },
        {
          "output_type": "stream",
          "name": "stderr",
          "text": [
            "INFO:werkzeug:\u001b[31m\u001b[1mWARNING: This is a development server. Do not use it in a production deployment. Use a production WSGI server instead.\u001b[0m\n",
            " * Running on http://127.0.0.1:5000\n",
            "INFO:werkzeug:\u001b[33mPress CTRL+C to quit\u001b[0m\n",
            "INFO:werkzeug: * Restarting with stat\n"
          ]
        }
      ]
    },
    {
      "cell_type": "code",
      "source": [
        "#9.How do you redirect to a different route in Flask?\n",
        "from flask import Flask, redirect, url_for\n",
        "\n",
        "app = Flask(__name__)\n",
        "\n",
        "@app.route('/')\n",
        "def home():\n",
        "    return 'Home Page'\n",
        "\n",
        "@app.route('/go-to-home')\n",
        "def go_to_home():\n",
        "    return redirect(url_for('home'))\n",
        "\n",
        "if __name__ == '__main__':\n",
        "    app.run(debug=True)"
      ],
      "metadata": {
        "colab": {
          "base_uri": "https://localhost:8080/"
        },
        "id": "wShffX5wja0h",
        "outputId": "7dc6e56c-2589-4bbc-ca47-109859d7abd5"
      },
      "execution_count": 13,
      "outputs": [
        {
          "output_type": "stream",
          "name": "stdout",
          "text": [
            " * Serving Flask app '__main__'\n",
            " * Debug mode: on\n"
          ]
        },
        {
          "output_type": "stream",
          "name": "stderr",
          "text": [
            "INFO:werkzeug:\u001b[31m\u001b[1mWARNING: This is a development server. Do not use it in a production deployment. Use a production WSGI server instead.\u001b[0m\n",
            " * Running on http://127.0.0.1:5000\n",
            "INFO:werkzeug:\u001b[33mPress CTRL+C to quit\u001b[0m\n",
            "INFO:werkzeug: * Restarting with stat\n"
          ]
        }
      ]
    },
    {
      "cell_type": "code",
      "source": [
        "#10.How do you handle errors in Flask (e.g., 404)?\n",
        "from flask import Flask, jsonify\n",
        "\n",
        "app = Flask(__name__)\n",
        "\n",
        "@app.errorhandler(404)\n",
        "def not_found_error(error):\n",
        "    return jsonify({'error': 'Not found'}), 404\n",
        "\n",
        "if __name__ == '__main__':\n",
        "    app.run()\n"
      ],
      "metadata": {
        "colab": {
          "base_uri": "https://localhost:8080/"
        },
        "id": "6i7-aC8tlDHO",
        "outputId": "35b66f97-c794-4afc-c64f-6614728cb4e5"
      },
      "execution_count": 18,
      "outputs": [
        {
          "output_type": "stream",
          "name": "stdout",
          "text": [
            " * Serving Flask app '__main__'\n",
            " * Debug mode: off\n"
          ]
        },
        {
          "output_type": "stream",
          "name": "stderr",
          "text": [
            "INFO:werkzeug:\u001b[31m\u001b[1mWARNING: This is a development server. Do not use it in a production deployment. Use a production WSGI server instead.\u001b[0m\n",
            " * Running on http://127.0.0.1:5000\n",
            "INFO:werkzeug:\u001b[33mPress CTRL+C to quit\u001b[0m\n"
          ]
        }
      ]
    },
    {
      "cell_type": "code",
      "source": [
        "#11.How do you structure a Flask app using Blueprints?\n",
        "# Directory structure\n",
        "# /content/\n",
        "# ├── app.py\n",
        "# └── mymodule/\n",
        "#     ├── __init__.py\n",
        "#     └── routes.py\n",
        "\n",
        "# Step 1: Create the folder and files\n",
        "\n",
        "import os\n",
        "\n",
        "os.makedirs('mymodule', exist_ok=True)\n",
        "\n",
        "# Step 2: Create mymodule/routes.py\n",
        "\n",
        "with open('mymodule/routes.py', 'w') as f:\n",
        "    f.write('''\n",
        "from flask import Blueprint\n",
        "\n",
        "bp = Blueprint('mymodule', __name__)\n",
        "\n",
        "@bp.route('/hello')\n",
        "def hello():\n",
        "    return 'Hello from Blueprint!'\n",
        "''')\n",
        "\n",
        "# Step 3: Create mymodule/__init__.py\n",
        "\n",
        "with open('mymodule/__init__.py', 'w') as f:\n",
        "    f.write('from .routes import bp')\n",
        "\n",
        "# Step 4: Create the main Flask app (app.py)\n",
        "\n",
        "with open('app.py', 'w') as f:\n",
        "    f.write('''\n",
        "from flask import Flask\n",
        "from mymodule import bp\n",
        "\n",
        "app = Flask(__name__)\n",
        "app.register_blueprint(bp, url_prefix='/mymodule')\n",
        "\n",
        "if __name__ == '__main__':\n",
        "    app.run()\n",
        "''')\n",
        "\n",
        "# Step 5: Run the app with Flask-Ngrok\n",
        "\n",
        "!pip install flask-ngrok\n",
        "\n",
        "from flask_ngrok import run_with_ngrok\n",
        "from flask import Flask\n",
        "from mymodule import bp\n",
        "\n",
        "app = Flask(__name__)\n",
        "app.register_blueprint(bp, url_prefix='/mymodule')\n",
        "\n",
        "run_with_ngrok(app)\n",
        "app.run()"
      ],
      "metadata": {
        "colab": {
          "base_uri": "https://localhost:8080/"
        },
        "id": "GQ8b7fnqomfv",
        "outputId": "2c153d64-bea2-47d6-a5db-df273c11524e"
      },
      "execution_count": 19,
      "outputs": [
        {
          "output_type": "stream",
          "name": "stdout",
          "text": [
            "Requirement already satisfied: flask-ngrok in /usr/local/lib/python3.11/dist-packages (0.0.25)\n",
            "Requirement already satisfied: Flask>=0.8 in /usr/local/lib/python3.11/dist-packages (from flask-ngrok) (3.1.1)\n",
            "Requirement already satisfied: requests in /usr/local/lib/python3.11/dist-packages (from flask-ngrok) (2.32.3)\n",
            "Requirement already satisfied: blinker>=1.9.0 in /usr/local/lib/python3.11/dist-packages (from Flask>=0.8->flask-ngrok) (1.9.0)\n",
            "Requirement already satisfied: click>=8.1.3 in /usr/local/lib/python3.11/dist-packages (from Flask>=0.8->flask-ngrok) (8.2.1)\n",
            "Requirement already satisfied: itsdangerous>=2.2.0 in /usr/local/lib/python3.11/dist-packages (from Flask>=0.8->flask-ngrok) (2.2.0)\n",
            "Requirement already satisfied: jinja2>=3.1.2 in /usr/local/lib/python3.11/dist-packages (from Flask>=0.8->flask-ngrok) (3.1.6)\n",
            "Requirement already satisfied: markupsafe>=2.1.1 in /usr/local/lib/python3.11/dist-packages (from Flask>=0.8->flask-ngrok) (3.0.2)\n",
            "Requirement already satisfied: werkzeug>=3.1.0 in /usr/local/lib/python3.11/dist-packages (from Flask>=0.8->flask-ngrok) (3.1.3)\n",
            "Requirement already satisfied: charset-normalizer<4,>=2 in /usr/local/lib/python3.11/dist-packages (from requests->flask-ngrok) (3.4.2)\n",
            "Requirement already satisfied: idna<4,>=2.5 in /usr/local/lib/python3.11/dist-packages (from requests->flask-ngrok) (3.10)\n",
            "Requirement already satisfied: urllib3<3,>=1.21.1 in /usr/local/lib/python3.11/dist-packages (from requests->flask-ngrok) (2.5.0)\n",
            "Requirement already satisfied: certifi>=2017.4.17 in /usr/local/lib/python3.11/dist-packages (from requests->flask-ngrok) (2025.7.14)\n",
            " * Serving Flask app '__main__'\n",
            " * Debug mode: off\n"
          ]
        },
        {
          "output_type": "stream",
          "name": "stderr",
          "text": [
            "INFO:werkzeug:\u001b[31m\u001b[1mWARNING: This is a development server. Do not use it in a production deployment. Use a production WSGI server instead.\u001b[0m\n",
            " * Running on http://127.0.0.1:5000\n",
            "INFO:werkzeug:\u001b[33mPress CTRL+C to quit\u001b[0m\n",
            "Exception in thread Thread-10:\n",
            "Traceback (most recent call last):\n",
            "  File \"/usr/local/lib/python3.11/dist-packages/urllib3/connection.py\", line 198, in _new_conn\n",
            "    sock = connection.create_connection(\n",
            "           ^^^^^^^^^^^^^^^^^^^^^^^^^^^^^\n",
            "  File \"/usr/local/lib/python3.11/dist-packages/urllib3/util/connection.py\", line 85, in create_connection\n",
            "    raise err\n",
            "  File \"/usr/local/lib/python3.11/dist-packages/urllib3/util/connection.py\", line 73, in create_connection\n",
            "    sock.connect(sa)\n",
            "ConnectionRefusedError: [Errno 111] Connection refused\n",
            "\n",
            "The above exception was the direct cause of the following exception:\n",
            "\n",
            "Traceback (most recent call last):\n",
            "  File \"/usr/local/lib/python3.11/dist-packages/urllib3/connectionpool.py\", line 787, in urlopen\n",
            "    response = self._make_request(\n",
            "               ^^^^^^^^^^^^^^^^^^^\n",
            "  File \"/usr/local/lib/python3.11/dist-packages/urllib3/connectionpool.py\", line 493, in _make_request\n",
            "    conn.request(\n",
            "  File \"/usr/local/lib/python3.11/dist-packages/urllib3/connection.py\", line 494, in request\n",
            "    self.endheaders()\n",
            "  File \"/usr/lib/python3.11/http/client.py\", line 1298, in endheaders\n",
            "    self._send_output(message_body, encode_chunked=encode_chunked)\n",
            "  File \"/usr/lib/python3.11/http/client.py\", line 1058, in _send_output\n",
            "    self.send(msg)\n",
            "  File \"/usr/lib/python3.11/http/client.py\", line 996, in send\n",
            "    self.connect()\n",
            "  File \"/usr/local/lib/python3.11/dist-packages/urllib3/connection.py\", line 325, in connect\n",
            "    self.sock = self._new_conn()\n",
            "                ^^^^^^^^^^^^^^^^\n",
            "  File \"/usr/local/lib/python3.11/dist-packages/urllib3/connection.py\", line 213, in _new_conn\n",
            "    raise NewConnectionError(\n",
            "urllib3.exceptions.NewConnectionError: <urllib3.connection.HTTPConnection object at 0x7d08923d3d90>: Failed to establish a new connection: [Errno 111] Connection refused\n",
            "\n",
            "The above exception was the direct cause of the following exception:\n",
            "\n",
            "Traceback (most recent call last):\n",
            "  File \"/usr/local/lib/python3.11/dist-packages/requests/adapters.py\", line 667, in send\n",
            "    resp = conn.urlopen(\n",
            "           ^^^^^^^^^^^^^\n",
            "  File \"/usr/local/lib/python3.11/dist-packages/urllib3/connectionpool.py\", line 841, in urlopen\n",
            "    retries = retries.increment(\n",
            "              ^^^^^^^^^^^^^^^^^^\n",
            "  File \"/usr/local/lib/python3.11/dist-packages/urllib3/util/retry.py\", line 519, in increment\n",
            "    raise MaxRetryError(_pool, url, reason) from reason  # type: ignore[arg-type]\n",
            "    ^^^^^^^^^^^^^^^^^^^^^^^^^^^^^^^^^^^^^^^^^^^^^^^^^^^\n",
            "urllib3.exceptions.MaxRetryError: HTTPConnectionPool(host='localhost', port=4040): Max retries exceeded with url: /api/tunnels (Caused by NewConnectionError('<urllib3.connection.HTTPConnection object at 0x7d08923d3d90>: Failed to establish a new connection: [Errno 111] Connection refused'))\n",
            "\n",
            "During handling of the above exception, another exception occurred:\n",
            "\n",
            "Traceback (most recent call last):\n",
            "  File \"/usr/lib/python3.11/threading.py\", line 1045, in _bootstrap_inner\n",
            "    self.run()\n",
            "  File \"/usr/lib/python3.11/threading.py\", line 1401, in run\n",
            "    self.function(*self.args, **self.kwargs)\n",
            "  File \"/usr/local/lib/python3.11/dist-packages/flask_ngrok.py\", line 70, in start_ngrok\n",
            "    ngrok_address = _run_ngrok()\n",
            "                    ^^^^^^^^^^^^\n",
            "  File \"/usr/local/lib/python3.11/dist-packages/flask_ngrok.py\", line 35, in _run_ngrok\n",
            "    tunnel_url = requests.get(localhost_url).text  # Get the tunnel information\n",
            "                 ^^^^^^^^^^^^^^^^^^^^^^^^^^^\n",
            "  File \"/usr/local/lib/python3.11/dist-packages/requests/api.py\", line 73, in get\n",
            "    return request(\"get\", url, params=params, **kwargs)\n",
            "           ^^^^^^^^^^^^^^^^^^^^^^^^^^^^^^^^^^^^^^^^^^^^\n",
            "  File \"/usr/local/lib/python3.11/dist-packages/requests/api.py\", line 59, in request\n",
            "    return session.request(method=method, url=url, **kwargs)\n",
            "           ^^^^^^^^^^^^^^^^^^^^^^^^^^^^^^^^^^^^^^^^^^^^^^^^^\n",
            "  File \"/usr/local/lib/python3.11/dist-packages/requests/sessions.py\", line 589, in request\n",
            "    resp = self.send(prep, **send_kwargs)\n",
            "           ^^^^^^^^^^^^^^^^^^^^^^^^^^^^^^\n",
            "  File \"/usr/local/lib/python3.11/dist-packages/requests/sessions.py\", line 703, in send\n",
            "    r = adapter.send(request, **kwargs)\n",
            "        ^^^^^^^^^^^^^^^^^^^^^^^^^^^^^^^\n",
            "  File \"/usr/local/lib/python3.11/dist-packages/requests/adapters.py\", line 700, in send\n",
            "    raise ConnectionError(e, request=request)\n",
            "requests.exceptions.ConnectionError: HTTPConnectionPool(host='localhost', port=4040): Max retries exceeded with url: /api/tunnels (Caused by NewConnectionError('<urllib3.connection.HTTPConnection object at 0x7d08923d3d90>: Failed to establish a new connection: [Errno 111] Connection refused'))\n"
          ]
        }
      ]
    },
    {
      "cell_type": "code",
      "source": [
        "#12.How do you define a custom Jinja filter in Flask?\n",
        "from flask import Flask, render_template_string\n",
        "\n",
        "app = Flask(__name__)\n",
        "\n",
        "# Define custom Jinja filter\n",
        "def reverse_string(s):\n",
        "    return s[::-1]\n",
        "\n",
        "app.jinja_env.filters['reverse'] = reverse_string\n",
        "\n",
        "@app.route('/')\n",
        "def index():\n",
        "    return render_template_string('<p>{{ \"Flask\" | reverse }}</p>')\n",
        "\n",
        "if __name__ == '__main__':\n",
        "    app.run(debug=True)\n"
      ],
      "metadata": {
        "colab": {
          "base_uri": "https://localhost:8080/"
        },
        "id": "7A92KRxbqKJQ",
        "outputId": "e07f1aa9-26e4-4190-a6fb-c0dacdd7a5d2"
      },
      "execution_count": 21,
      "outputs": [
        {
          "output_type": "stream",
          "name": "stdout",
          "text": [
            " * Serving Flask app '__main__'\n",
            " * Debug mode: on\n"
          ]
        },
        {
          "output_type": "stream",
          "name": "stderr",
          "text": [
            "INFO:werkzeug:\u001b[31m\u001b[1mWARNING: This is a development server. Do not use it in a production deployment. Use a production WSGI server instead.\u001b[0m\n",
            " * Running on http://127.0.0.1:5000\n",
            "INFO:werkzeug:\u001b[33mPress CTRL+C to quit\u001b[0m\n",
            "INFO:werkzeug: * Restarting with stat\n"
          ]
        }
      ]
    },
    {
      "cell_type": "code",
      "source": [
        "#13.How can you redirect with query parameters in Flask?\n",
        "from flask import Flask, redirect, url_for, request\n",
        "\n",
        "app = Flask(__name__)\n",
        "\n",
        "@app.route('/')\n",
        "def index():\n",
        "    return redirect(url_for('greet', name='Kartik', age=21))  # 🔁 Changed values\n",
        "\n",
        "@app.route('/greet')\n",
        "def greet():\n",
        "    name = request.args.get('name')\n",
        "    age = request.args.get('age')\n",
        "    return f'Hello {name}, age {age}!'\n",
        "\n",
        "if __name__ == '__main__':\n",
        "    app.run(debug=True)"
      ],
      "metadata": {
        "colab": {
          "base_uri": "https://localhost:8080/"
        },
        "id": "YWr9m0DorIDt",
        "outputId": "bc6ca060-5266-4327-fbe7-e0a78710fa0d"
      },
      "execution_count": 22,
      "outputs": [
        {
          "output_type": "stream",
          "name": "stdout",
          "text": [
            " * Serving Flask app '__main__'\n",
            " * Debug mode: on\n"
          ]
        },
        {
          "output_type": "stream",
          "name": "stderr",
          "text": [
            "INFO:werkzeug:\u001b[31m\u001b[1mWARNING: This is a development server. Do not use it in a production deployment. Use a production WSGI server instead.\u001b[0m\n",
            " * Running on http://127.0.0.1:5000\n",
            "INFO:werkzeug:\u001b[33mPress CTRL+C to quit\u001b[0m\n",
            "INFO:werkzeug: * Restarting with stat\n"
          ]
        }
      ]
    },
    {
      "cell_type": "code",
      "source": [
        "#14.How do you return JSON responses in Flask?\n",
        "from flask import Flask, jsonify\n",
        "\n",
        "app = Flask(__name__)\n",
        "\n",
        "@app.route('/data')\n",
        "def data():\n",
        "    return jsonify({\"name\": \"Ronit\", \"age\": 25, \"status\": \"active\"})\n",
        "\n",
        "if __name__ == '__main__':\n",
        "    app.run(debug=True)\n"
      ],
      "metadata": {
        "colab": {
          "base_uri": "https://localhost:8080/"
        },
        "id": "A0PNGrG1r8aE",
        "outputId": "f2fd578c-8979-4970-89d3-aa40d1449a17"
      },
      "execution_count": 24,
      "outputs": [
        {
          "output_type": "stream",
          "name": "stdout",
          "text": [
            " * Serving Flask app '__main__'\n",
            " * Debug mode: on\n"
          ]
        },
        {
          "output_type": "stream",
          "name": "stderr",
          "text": [
            "INFO:werkzeug:\u001b[31m\u001b[1mWARNING: This is a development server. Do not use it in a production deployment. Use a production WSGI server instead.\u001b[0m\n",
            " * Running on http://127.0.0.1:5000\n",
            "INFO:werkzeug:\u001b[33mPress CTRL+C to quit\u001b[0m\n",
            "INFO:werkzeug: * Restarting with stat\n"
          ]
        }
      ]
    },
    {
      "cell_type": "code",
      "source": [
        "#15.How do you capture URL parameters in Flask?\n",
        "from flask import Flask\n",
        "\n",
        "app = Flask(__name__)\n",
        "\n",
        "@app.route('/user/<username>')\n",
        "def show_user(username):\n",
        "    return f'Hello, {username}!'\n",
        "\n",
        "@app.route('/post/<int:post_id>')\n",
        "def show_post(post_id):\n",
        "    return f'Post ID: {post_id}'\n",
        "\n",
        "if __name__ == '__main__':\n",
        "    app.run(debug=True)"
      ],
      "metadata": {
        "colab": {
          "base_uri": "https://localhost:8080/"
        },
        "id": "icnXK_QFso9W",
        "outputId": "f29adebe-3c4d-448c-ec52-1e5bd645a840"
      },
      "execution_count": 25,
      "outputs": [
        {
          "output_type": "stream",
          "name": "stdout",
          "text": [
            " * Serving Flask app '__main__'\n",
            " * Debug mode: on\n"
          ]
        },
        {
          "output_type": "stream",
          "name": "stderr",
          "text": [
            "INFO:werkzeug:\u001b[31m\u001b[1mWARNING: This is a development server. Do not use it in a production deployment. Use a production WSGI server instead.\u001b[0m\n",
            " * Running on http://127.0.0.1:5000\n",
            "INFO:werkzeug:\u001b[33mPress CTRL+C to quit\u001b[0m\n",
            "INFO:werkzeug: * Restarting with stat\n"
          ]
        }
      ]
    }
  ]
}